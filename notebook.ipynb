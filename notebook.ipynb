{
 "cells": [
  {
   "cell_type": "markdown",
   "metadata": {},
   "source": [
    "# Overview of the project\n",
    "\n",
    "The goal of the project is to design online learning algorithms to handle a marketing\n",
    "campaing to sell products. This includes:\n",
    "- An advertising campaign\n",
    "- A pricing problem\n",
    "\n",
    "## Overview of the interaction\n",
    "\n",
    "At each day:\n",
    "1. The company chooses a price p\n",
    "2. The company faces a sequence of auctions. For each auction:\n",
    "    1. The company chooses a bid b\n",
    "    2. A slot is (possibly) assigned to the company depending on b, the competing bids, and the auction format\n",
    "    3. If the ad is clicked, an user visit the company web page\n",
    "    4. The user buy the company product with a probability that depends on the price p"
   ]
  },
  {
   "cell_type": "markdown",
   "metadata": {},
   "source": [
    "# Requirement 1: stochastic environment\n",
    "\n",
    "Build a stochastic environment. At an high level, it should include:\n",
    "- A distribution over the bids of the other agents (Done)\n",
    "- A function specifying the probability with which an user buys for every price (Done)\n",
    "\n",
    "Build a pricing strategy using the continuous set of prices $p \\in [0,1]$ and Gaussian Processes\n",
    "\n",
    "Consider a sequence of second-price auctions. Build two learning algorithms to deal with the bidding problem:\n",
    "- A primal-dual algorithm for truthful auctions\n",
    "- A UCB-like algorithm\n",
    "\n",
    "Run the algorithms separately. Then, run the algorithms together. Keep in mind that the number of customers seeing the price depends on the advertising campaign."
   ]
  },
  {
   "cell_type": "code",
   "execution_count": 1,
   "metadata": {},
   "outputs": [],
   "source": [
    "import numpy as np\n",
    "import matplotlib.pyplot as plt\n",
    "from scipy import stats\n",
    "from scipy import optimize"
   ]
  },
  {
   "cell_type": "code",
   "execution_count": 2,
   "metadata": {},
   "outputs": [],
   "source": [
    "class Auction:\n",
    "    def __init__(self, *args, **kwargs):\n",
    "        pass\n",
    "\n",
    "    def get_winners(self, bids):\n",
    "        pass\n",
    "\n",
    "    def get_payments_per_click(self, winners, values, bids):\n",
    "        pass\n",
    "\n",
    "    def round(self, bids):\n",
    "        winners, values = self.get_winners(bids) # allocation mechanism!\n",
    "        payments_per_click = self.get_payments_per_click(winners, values, bids)\n",
    "        return winners, payments_per_click\n"
   ]
  },
  {
   "cell_type": "code",
   "execution_count": 3,
   "metadata": {},
   "outputs": [],
   "source": [
    "class SecondPriceAuction(Auction):\n",
    "    def __init__(self, ctrs):\n",
    "        self.ctrs = ctrs\n",
    "        self.n_adv = len(self.ctrs)\n",
    "    \n",
    "    def get_winners(self, bids):\n",
    "        adv_values = self.ctrs*bids\n",
    "        adv_ranking = np.argsort(adv_values)\n",
    "        winner = adv_ranking[-1]\n",
    "        return winner, adv_values\n",
    "    \n",
    "    def get_payments_per_click(self, winners, values, bids):\n",
    "        adv_ranking = np.argsort(values)\n",
    "        second = adv_ranking[-2]\n",
    "        payment = values[second]/self.ctrs[winners]\n",
    "        return payment.round(2)"
   ]
  },
  {
   "cell_type": "code",
   "execution_count": 4,
   "metadata": {},
   "outputs": [
    {
     "data": {
      "text/plain": [
       "array([0.37454012, 0.95071431, 0.90625458, 0.73222489, 0.80656115,\n",
       "       0.75939826, 0.69227656, 0.86617615, 0.60111501, 0.70807258,\n",
       "       0.22120944, 0.98766801, 0.94405934, 0.21233911, 0.70557517,\n",
       "       0.92524832, 0.34734333, 0.89983335, 0.9154883 , 0.66378969,\n",
       "       0.96339443, 0.56016818, 0.93682246, 0.97105825, 0.94426649,\n",
       "       0.78517596, 0.86204265, 0.98129709, 0.59241457, 0.82891547,\n",
       "       0.60754485, 0.59626988, 0.46393249, 0.97200533, 0.96563203,\n",
       "       0.80839735, 0.33987496, 0.72476677, 0.68423303, 0.44015249,\n",
       "       0.85061606, 0.79072316, 0.52339091, 0.9093204 , 0.88597775,\n",
       "       0.7228143 , 0.31171108, 0.7078351 , 0.87009887, 0.18485446])"
      ]
     },
     "execution_count": 4,
     "metadata": {},
     "output_type": "execute_result"
    }
   ],
   "source": [
    "np.random.seed(42)\n",
    "n_advertisers = 3\n",
    "n_users = 1000\n",
    "\n",
    "other_bids = np.random.uniform(0, 1, size = (n_advertisers, n_users))\n",
    "\n",
    "m_t = other_bids.max(axis=0) ## highest bid at each round\n",
    "m_t[:50]"
   ]
  },
  {
   "cell_type": "code",
   "execution_count": 5,
   "metadata": {},
   "outputs": [],
   "source": [
    "def user_purchase_probability(price):\n",
    "    # Parameters of the Gaussian Process\n",
    "    amplitude = 1\n",
    "    width = 0.7\n",
    "\n",
    "    return amplitude * np.exp(-((price) / width) ** 2)"
   ]
  },
  {
   "cell_type": "code",
   "execution_count": 6,
   "metadata": {},
   "outputs": [
    {
     "data": {
      "image/png": "[encoded data removed]",
      "text/plain": [
       "<Figure size 800x600 with 1 Axes>"
      ]
     },
     "metadata": {},
     "output_type": "display_data"
    }
   ],
   "source": [
    "price_values = np.linspace(0, 1, 100)\n",
    "\n",
    "purchase_probs = [user_purchase_probability(p) for p in price_values]\n",
    "\n",
    "# Plot the user purchase probability function\n",
    "plt.figure(figsize=(8, 6))\n",
    "plt.plot(price_values, purchase_probs, color='blue')\n",
    "plt.xlabel('Price')\n",
    "plt.ylabel('User Purchase Probability')\n",
    "plt.grid(True)\n",
    "plt.show()"
   ]
  },
  {
   "cell_type": "code",
   "execution_count": null,
   "metadata": {},
   "outputs": [],
   "source": []
  }
 ],
 "metadata": {
  "kernelspec": {
   "display_name": "cuda",
   "language": "python",
   "name": "python3"
  },
  "language_info": {
   "codemirror_mode": {
    "name": "ipython",
    "version": 3
   },
   "file_extension": ".py",
   "mimetype": "text/x-python",
   "name": "python",
   "nbconvert_exporter": "python",
   "pygments_lexer": "ipython3",
   "version": "3.11.9"
  }
 },
 "nbformat": 4,
 "nbformat_minor": 2
}
